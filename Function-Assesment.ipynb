{
 "cells": [
  {
   "cell_type": "code",
   "execution_count": 1,
   "id": "94a0d91b",
   "metadata": {},
   "outputs": [
    {
     "name": "stdout",
     "output_type": "stream",
     "text": [
      "The sum is: 30\n"
     ]
    }
   ],
   "source": [
    "def sum():  \n",
    "    a = 10  \n",
    "    b = 20  \n",
    "    c = a+b  \n",
    "    return c  \n",
    "print(\"The sum is:\",sum())  "
   ]
  },
  {
   "cell_type": "code",
   "execution_count": 2,
   "id": "e1153913",
   "metadata": {},
   "outputs": [
    {
     "name": "stdout",
     "output_type": "stream",
     "text": [
      "Enter a: 20\n",
      "Enter b: 30\n",
      "Sum =  50\n"
     ]
    }
   ],
   "source": [
    "#Python function to calculate the sum of two variables     \n",
    "\n",
    "def sum (a,b):    \n",
    "    return a+b;    \n",
    "    \n",
    "a = int(input(\"Enter a: \"))    \n",
    "b = int(input(\"Enter b: \"))    \n",
    "    \n",
    "#printing the sum of a and b    \n",
    "print(\"Sum = \",sum(a,b))    "
   ]
  },
  {
   "cell_type": "code",
   "execution_count": 3,
   "id": "9c0b407f",
   "metadata": {},
   "outputs": [
    {
     "name": "stdout",
     "output_type": "stream",
     "text": [
      "Enter the principle amount? 5000\n",
      "Enter the rate of interest? 3\n",
      "Enter the time in years? 5\n",
      "Simple Interest:  750.0\n"
     ]
    }
   ],
   "source": [
    "# w.a.p to calculate simple_interest accepts three arguments and returns the simple interest accordingly    \n",
    "def simple_interest(p,t,r):    \n",
    "    return (p*t*r)/100    \n",
    "p = float(input(\"Enter the principle amount? \"))    \n",
    "r = float(input(\"Enter the rate of interest? \"))    \n",
    "t = float(input(\"Enter the time in years? \"))    \n",
    "print(\"Simple Interest: \",simple_interest(p,r,t))    "
   ]
  },
  {
   "cell_type": "code",
   "execution_count": 4,
   "id": "76c80f87",
   "metadata": {},
   "outputs": [
    {
     "name": "stdout",
     "output_type": "stream",
     "text": [
      "even\n",
      "odd\n"
     ]
    }
   ],
   "source": [
    "# w.a.p to check whether x is even or odd\n",
    " \n",
    "def evenOdd(x):\n",
    "    if (x % 2 == 0):\n",
    "        print(\"even\")\n",
    "    else:\n",
    "        print(\"odd\")\n",
    "evenOdd(4)\n",
    "evenOdd(7)"
   ]
  },
  {
   "cell_type": "code",
   "execution_count": 6,
   "id": "84a47607",
   "metadata": {},
   "outputs": [
    {
     "name": "stdout",
     "output_type": "stream",
     "text": [
      "Enter 1st no:-23\n",
      "Enter 2nd no:-21\n",
      "21\n",
      "23\n"
     ]
    }
   ],
   "source": [
    "# w.a.p to swap variables\n",
    "def swap(x, y):\n",
    "    temp = x\n",
    "    x = y\n",
    "    y = temp\n",
    "x =int(input(\"Enter 1st no:-\"))\n",
    "y = int(input(\"Enter 2nd no:-\"))\n",
    "swap(x, y)\n",
    "print(y)\n",
    "print(x)"
   ]
  },
  {
   "cell_type": "code",
   "execution_count": null,
   "id": "741ffc15",
   "metadata": {},
   "outputs": [],
   "source": []
  }
 ],
 "metadata": {
  "kernelspec": {
   "display_name": "Python 3 (ipykernel)",
   "language": "python",
   "name": "python3"
  },
  "language_info": {
   "codemirror_mode": {
    "name": "ipython",
    "version": 3
   },
   "file_extension": ".py",
   "mimetype": "text/x-python",
   "name": "python",
   "nbconvert_exporter": "python",
   "pygments_lexer": "ipython3",
   "version": "3.9.7"
  }
 },
 "nbformat": 4,
 "nbformat_minor": 5
}
